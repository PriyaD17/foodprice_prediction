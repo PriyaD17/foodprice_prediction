{
 "cells": [
  {
   "cell_type": "code",
   "execution_count": 2,
   "id": "d36e3977-bb8f-448a-98ab-736cae17d540",
   "metadata": {},
   "outputs": [],
   "source": [
    "import pandas as pd\n",
    "import numpy as np\n",
    "import matplotlib.pyplot as plt\n",
    "import seaborn as sns\n",
    "import requests\n",
    "from bs4 import BeautifulSoup\n"
   ]
  },
  {
   "cell_type": "code",
   "execution_count": 3,
   "id": "8ab4b58a-10b4-4df5-9b1f-ee5fe99cac6f",
   "metadata": {},
   "outputs": [
    {
     "name": "stdout",
     "output_type": "stream",
     "text": [
      "Successfully fetched the webpage!\n"
     ]
    }
   ],
   "source": [
    "# Import necessary libraries\n",
    "import requests\n",
    "from bs4 import BeautifulSoup\n",
    "\n",
    "# URL of the category page (Rice & Atta as an example)\n",
    "url = \"https://www.bigbasket.com/pc/staples/rice-rice-products/\"\n",
    "\n",
    "# Send a request to the website\n",
    "headers = {\"User-Agent\": \"Mozilla/5.0\"}\n",
    "response = requests.get(url, headers=headers)\n",
    "\n",
    "# Check if the request was successful\n",
    "if response.status_code == 200:\n",
    "    print(\"Successfully fetched the webpage!\")\n",
    "    soup = BeautifulSoup(response.text, \"html.parser\")\n",
    "else:\n",
    "    print(\"Failed to retrieve the page. Status code:\", response.status_code)\n"
   ]
  },
  {
   "cell_type": "code",
   "execution_count": 7,
   "id": "c314da84-409b-4a65-9780-80dd06ac10f6",
   "metadata": {},
   "outputs": [
    {
     "name": "stdout",
     "output_type": "stream",
     "text": [
      "Sona Masoori Raw Rice/Akki - ₹1750\n",
      "Rice/Akki - Jeera/Jeeraga Samba - ₹544\n",
      "Idli/Idly Rice - ₹544\n",
      "Rice/Akki - Jeera/Jeeraga Samba - ₹537.5\n",
      "Basmati Rice/Basmati Akki - Traditional - ₹1056.01\n",
      "HMT Kolam Raw Rice/Akki - ₹207\n",
      "Poha/Avalakki/Aval/Chivda - Thin White Poha - ₹94\n",
      "Salted Murmure - ₹34\n",
      "Miniket Rice - ₹315\n",
      "Rozana Basmati Rice - Non-GMO, Vegan, Non-Sticky, Fluffy Grains, Gluten Free - ₹88.88\n",
      "Kichili Samba Rice - ₹120\n",
      "Charminar Basmati Rice/Basmati Akki - Select - ₹122\n",
      "Organic Red Rice/Lal Chawal/Akki - ₹188\n",
      "Premium Basmati Rice/Basmati Akki - ₹732.94\n",
      "Premium Basmati Rice - Long Grain - ₹339.15\n",
      "Biryani Basmati Rice 1kg + Date crown Fard Premium Dates 250g Pouch Combo Pack - ₹230\n",
      "Natives Basmati Rice/Basmati Akki - ₹180\n",
      "Organic Poha/Avalakki - ₹103\n",
      "Broken Rice - ₹50\n",
      "Chia Seed Whole - Superfood, Rich In Omega-3 Fatty Acids, Antioxidants - ₹240.3\n",
      "Potato Flakes - ₹350\n",
      "Makka Poha - Packed With Nutrients, Healthy, Tasty - ₹29.35\n",
      "Ala Carte Special Rice - Long & Fluffy, Slender & Non-Sticky - ₹708.75\n",
      "Organic Basmati Rice//Basmati Akki - Brown - ₹224\n",
      "Thick Poha - ₹60\n",
      "Gold Raw Rice - ₹830\n",
      "Vegetable Biryani Kit - ₹125\n",
      "Matta Aval - ₹56\n",
      "Poha - Rich In Fibre, Carbohydrate - ₹48.02\n",
      "BASMATI RICE / CHAWAL - ROYALE BIRYANI SPECIAL - ₹136.5\n",
      "Biryani Rice - Premium - ₹135.05\n",
      "Matta Broken Rice - ₹54.5\n",
      "Lokwan Wheat Naturally Rich In Fibre - ₹395\n",
      "Basmati Rice - Premium Pulav - ₹322.15\n",
      "Boiled Rice - ₹79\n",
      "Tulaipanji Rice - Organic, Premium & Aromatic - ₹169\n",
      "Extra Premium Long Grain Basmati Rice - Pure, Authentic Taste - ₹979.02\n",
      "Ponni Boiled Rice - 12 To 17 Months Old - ₹1328\n",
      "Boiled Rice - Rajabogham - ₹1660\n",
      "Parmal Rice - ₹260\n",
      "Wheat - Sihor - ₹268\n",
      "Ponni Boiled Rice - ₹1486\n",
      "Champion Choice Exotic Basmati Rice - For Biryani, Pulao & Other Dishes - ₹992.25\n",
      "Premium Rice - Shahi Pakwan - ₹81.12\n"
     ]
    }
   ],
   "source": [
    "# Find all product containers\n",
    "products = soup.find_all(\"li\", class_=\"PaginateItems___StyledLi-sc-1yrbjdr-0 dDBqny\")  # Change this if needed\n",
    "\n",
    "# Extract product names and prices\n",
    "for product in products:\n",
    "    name_tag = product.find(\"h3\", class_=\"block m-0 line-clamp-2 font-regular text-base leading-sm text-darkOnyx-800 pt-0.5 h-full\")\n",
    "    price_tag = product.find(\"span\", class_=\"Label-sc-15v1nk5-0 Pricing___StyledLabel-sc-pldi2d-1 gJxZPQ AypOi\")  # Adjust this if needed\n",
    "\n",
    "    if name_tag and price_tag:  # Ensure both exist before extracting\n",
    "        name = name_tag.text.strip()\n",
    "        price = price_tag.text.strip()\n",
    "        print(f\"{name} - {price}\")\n"
   ]
  },
  {
   "cell_type": "code",
   "execution_count": 9,
   "id": "cd28d93a-1d76-4768-8448-196c0054e95f",
   "metadata": {},
   "outputs": [
    {
     "name": "stdout",
     "output_type": "stream",
     "text": [
      "✅ Data saved to bigbasket_products.csv successfully!\n"
     ]
    }
   ],
   "source": [
    "import csv\n",
    "import requests\n",
    "from bs4 import BeautifulSoup\n",
    "\n",
    "url = \"https://www.bigbasket.com/pc/staples/rice-rice-products/\"\n",
    "\n",
    "headers = {\"User-Agent\": \"Mozilla/5.0\"}\n",
    "response = requests.get(url, headers=headers)\n",
    "\n",
    "if response.status_code == 200:\n",
    "    soup = BeautifulSoup(response.text, \"html.parser\")\n",
    "\n",
    "    products = soup.find_all(\"li\", class_=\"PaginateItems___StyledLi-sc-1yrbjdr-0 dDBqny\")  \n",
    "\n",
    "    \n",
    "    product_data = []\n",
    "\n",
    "    # Loop through each product and extract details\n",
    "    for product in products:\n",
    "        name_tag = product.find(\"h3\", class_=\"block m-0 line-clamp-2 font-regular text-base leading-sm text-darkOnyx-800 pt-0.5 h-full\")\n",
    "        price_tag = product.find(\"span\", class_=\"Label-sc-15v1nk5-0 Pricing___StyledLabel-sc-pldi2d-1 gJxZPQ AypOi\")  \n",
    "\n",
    "        if name_tag and price_tag:\n",
    "            name = name_tag.text.strip()\n",
    "            price = price_tag.text.strip()\n",
    "\n",
    "            # Add data to the list\n",
    "            product_data.append([name, price])\n",
    "\n",
    "    with open(\"bigbasket_products.csv\", \"w\", newline=\"\", encoding=\"utf-8\") as file:\n",
    "        writer = csv.writer(file)\n",
    "        writer.writerow([\"Product Name\", \"Price\"]) \n",
    "        writer.writerows(product_data)  \n",
    "\n",
    "    print(\"✅ Data saved to bigbasket_products.csv successfully!\")\n",
    "\n",
    "else:\n",
    "    print(\"❌ Failed to fetch the webpage. Status code:\", response.status_code)\n"
   ]
  },
  {
   "cell_type": "code",
   "execution_count": null,
   "id": "d420930e-a005-414c-a0ea-2bc4514d0ed1",
   "metadata": {},
   "outputs": [],
   "source": []
  }
 ],
 "metadata": {
  "kernelspec": {
   "display_name": "Python 3 (ipykernel)",
   "language": "python",
   "name": "python3"
  },
  "language_info": {
   "codemirror_mode": {
    "name": "ipython",
    "version": 3
   },
   "file_extension": ".py",
   "mimetype": "text/x-python",
   "name": "python",
   "nbconvert_exporter": "python",
   "pygments_lexer": "ipython3",
   "version": "3.10.16"
  }
 },
 "nbformat": 4,
 "nbformat_minor": 5
}
